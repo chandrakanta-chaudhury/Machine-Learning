{
  "nbformat": 4,
  "nbformat_minor": 0,
  "metadata": {
    "colab": {
      "name": "Chandrakanta.ipynb",
      "provenance": [],
      "mount_file_id": "1Rsg65C4guN52ZcK2WM4vIi1k1k_I1M5c",
      "authorship_tag": "ABX9TyNhx4ST5nFAa64d7p/QKKJa"
    },
    "kernelspec": {
      "name": "python3",
      "display_name": "Python 3"
    }
  },
  "cells": [
    {
      "cell_type": "code",
      "metadata": {
        "id": "UO-SZXYer6Bz"
      },
      "source": [
        "import pandas as pd"
      ],
      "execution_count": 1,
      "outputs": []
    },
    {
      "cell_type": "code",
      "metadata": {
        "id": "YXAwrcrPt7QB"
      },
      "source": [
        "df=pd.read_csv(\"/content/drive/My Drive/Dataset.csv\")"
      ],
      "execution_count": 55,
      "outputs": []
    },
    {
      "cell_type": "code",
      "metadata": {
        "id": "T3_eoj_huKq9",
        "outputId": "250f72ae-29d8-430f-d03b-5b6eed9d816d",
        "colab": {
          "base_uri": "https://localhost:8080/",
          "height": 204
        }
      },
      "source": [
        "df.head(5)"
      ],
      "execution_count": 3,
      "outputs": [
        {
          "output_type": "execute_result",
          "data": {
            "text/html": [
              "<div>\n",
              "<style scoped>\n",
              "    .dataframe tbody tr th:only-of-type {\n",
              "        vertical-align: middle;\n",
              "    }\n",
              "\n",
              "    .dataframe tbody tr th {\n",
              "        vertical-align: top;\n",
              "    }\n",
              "\n",
              "    .dataframe thead th {\n",
              "        text-align: right;\n",
              "    }\n",
              "</style>\n",
              "<table border=\"1\" class=\"dataframe\">\n",
              "  <thead>\n",
              "    <tr style=\"text-align: right;\">\n",
              "      <th></th>\n",
              "      <th>BI_RADS</th>\n",
              "      <th>Age</th>\n",
              "      <th>Shape</th>\n",
              "      <th>Margin</th>\n",
              "      <th>Mass_Density</th>\n",
              "      <th>Severity</th>\n",
              "    </tr>\n",
              "  </thead>\n",
              "  <tbody>\n",
              "    <tr>\n",
              "      <th>0</th>\n",
              "      <td>5.0</td>\n",
              "      <td>67.0</td>\n",
              "      <td>lobular</td>\n",
              "      <td>spiculated</td>\n",
              "      <td>low</td>\n",
              "      <td>1</td>\n",
              "    </tr>\n",
              "    <tr>\n",
              "      <th>1</th>\n",
              "      <td>4.0</td>\n",
              "      <td>43.0</td>\n",
              "      <td>round</td>\n",
              "      <td>circumscribed</td>\n",
              "      <td>NaN</td>\n",
              "      <td>1</td>\n",
              "    </tr>\n",
              "    <tr>\n",
              "      <th>2</th>\n",
              "      <td>5.0</td>\n",
              "      <td>58.0</td>\n",
              "      <td>irregular</td>\n",
              "      <td>spiculated</td>\n",
              "      <td>low</td>\n",
              "      <td>1</td>\n",
              "    </tr>\n",
              "    <tr>\n",
              "      <th>3</th>\n",
              "      <td>4.0</td>\n",
              "      <td>28.0</td>\n",
              "      <td>round</td>\n",
              "      <td>circumscribed</td>\n",
              "      <td>low</td>\n",
              "      <td>0</td>\n",
              "    </tr>\n",
              "    <tr>\n",
              "      <th>4</th>\n",
              "      <td>5.0</td>\n",
              "      <td>74.0</td>\n",
              "      <td>round</td>\n",
              "      <td>spiculated</td>\n",
              "      <td>NaN</td>\n",
              "      <td>1</td>\n",
              "    </tr>\n",
              "  </tbody>\n",
              "</table>\n",
              "</div>"
            ],
            "text/plain": [
              "   BI_RADS   Age      Shape         Margin Mass_Density  Severity\n",
              "0      5.0  67.0    lobular     spiculated          low         1\n",
              "1      4.0  43.0      round  circumscribed          NaN         1\n",
              "2      5.0  58.0  irregular     spiculated          low         1\n",
              "3      4.0  28.0      round  circumscribed          low         0\n",
              "4      5.0  74.0      round     spiculated          NaN         1"
            ]
          },
          "metadata": {
            "tags": []
          },
          "execution_count": 3
        }
      ]
    },
    {
      "cell_type": "code",
      "metadata": {
        "id": "yJGckKGvwkjP",
        "outputId": "2ab619b1-b742-4e4d-bfe7-692c78aa234f",
        "colab": {
          "base_uri": "https://localhost:8080/",
          "height": 204
        }
      },
      "source": [
        "df.tail(5)"
      ],
      "execution_count": 15,
      "outputs": [
        {
          "output_type": "execute_result",
          "data": {
            "text/html": [
              "<div>\n",
              "<style scoped>\n",
              "    .dataframe tbody tr th:only-of-type {\n",
              "        vertical-align: middle;\n",
              "    }\n",
              "\n",
              "    .dataframe tbody tr th {\n",
              "        vertical-align: top;\n",
              "    }\n",
              "\n",
              "    .dataframe thead th {\n",
              "        text-align: right;\n",
              "    }\n",
              "</style>\n",
              "<table border=\"1\" class=\"dataframe\">\n",
              "  <thead>\n",
              "    <tr style=\"text-align: right;\">\n",
              "      <th></th>\n",
              "      <th>BI_RADS</th>\n",
              "      <th>Age</th>\n",
              "      <th>Shape</th>\n",
              "      <th>Margin</th>\n",
              "      <th>Mass_Density</th>\n",
              "      <th>Severity</th>\n",
              "    </tr>\n",
              "  </thead>\n",
              "  <tbody>\n",
              "    <tr>\n",
              "      <th>956</th>\n",
              "      <td>4.0</td>\n",
              "      <td>47.0</td>\n",
              "      <td>oval</td>\n",
              "      <td>circumscribed</td>\n",
              "      <td>low</td>\n",
              "      <td>0</td>\n",
              "    </tr>\n",
              "    <tr>\n",
              "      <th>957</th>\n",
              "      <td>4.0</td>\n",
              "      <td>56.0</td>\n",
              "      <td>irregular</td>\n",
              "      <td>spiculated</td>\n",
              "      <td>low</td>\n",
              "      <td>1</td>\n",
              "    </tr>\n",
              "    <tr>\n",
              "      <th>958</th>\n",
              "      <td>4.0</td>\n",
              "      <td>64.0</td>\n",
              "      <td>irregular</td>\n",
              "      <td>spiculated</td>\n",
              "      <td>low</td>\n",
              "      <td>0</td>\n",
              "    </tr>\n",
              "    <tr>\n",
              "      <th>959</th>\n",
              "      <td>5.0</td>\n",
              "      <td>66.0</td>\n",
              "      <td>irregular</td>\n",
              "      <td>spiculated</td>\n",
              "      <td>low</td>\n",
              "      <td>1</td>\n",
              "    </tr>\n",
              "    <tr>\n",
              "      <th>960</th>\n",
              "      <td>4.0</td>\n",
              "      <td>62.0</td>\n",
              "      <td>lobular</td>\n",
              "      <td>obscured</td>\n",
              "      <td>low</td>\n",
              "      <td>0</td>\n",
              "    </tr>\n",
              "  </tbody>\n",
              "</table>\n",
              "</div>"
            ],
            "text/plain": [
              "     BI_RADS   Age      Shape         Margin Mass_Density  Severity\n",
              "956      4.0  47.0       oval  circumscribed          low         0\n",
              "957      4.0  56.0  irregular     spiculated          low         1\n",
              "958      4.0  64.0  irregular     spiculated          low         0\n",
              "959      5.0  66.0  irregular     spiculated          low         1\n",
              "960      4.0  62.0    lobular       obscured          low         0"
            ]
          },
          "metadata": {
            "tags": []
          },
          "execution_count": 15
        }
      ]
    },
    {
      "cell_type": "code",
      "metadata": {
        "id": "z8naB3SYuMwz",
        "outputId": "532db349-b701-4afd-98fe-480778121035",
        "colab": {
          "base_uri": "https://localhost:8080/"
        }
      },
      "source": [
        "df.info()"
      ],
      "execution_count": 4,
      "outputs": [
        {
          "output_type": "stream",
          "text": [
            "<class 'pandas.core.frame.DataFrame'>\n",
            "RangeIndex: 961 entries, 0 to 960\n",
            "Data columns (total 6 columns):\n",
            " #   Column        Non-Null Count  Dtype  \n",
            "---  ------        --------------  -----  \n",
            " 0   BI_RADS       959 non-null    float64\n",
            " 1   Age           861 non-null    float64\n",
            " 2   Shape         930 non-null    object \n",
            " 3   Margin        913 non-null    object \n",
            " 4   Mass_Density  885 non-null    object \n",
            " 5   Severity      961 non-null    int64  \n",
            "dtypes: float64(2), int64(1), object(3)\n",
            "memory usage: 45.2+ KB\n"
          ],
          "name": "stdout"
        }
      ]
    },
    {
      "cell_type": "code",
      "metadata": {
        "id": "k8a7VXdduRyX",
        "outputId": "85fa8cec-b238-44e0-93ad-439d04b89a2c",
        "colab": {
          "base_uri": "https://localhost:8080/",
          "height": 297
        }
      },
      "source": [
        "df.describe()"
      ],
      "execution_count": 5,
      "outputs": [
        {
          "output_type": "execute_result",
          "data": {
            "text/html": [
              "<div>\n",
              "<style scoped>\n",
              "    .dataframe tbody tr th:only-of-type {\n",
              "        vertical-align: middle;\n",
              "    }\n",
              "\n",
              "    .dataframe tbody tr th {\n",
              "        vertical-align: top;\n",
              "    }\n",
              "\n",
              "    .dataframe thead th {\n",
              "        text-align: right;\n",
              "    }\n",
              "</style>\n",
              "<table border=\"1\" class=\"dataframe\">\n",
              "  <thead>\n",
              "    <tr style=\"text-align: right;\">\n",
              "      <th></th>\n",
              "      <th>BI_RADS</th>\n",
              "      <th>Age</th>\n",
              "      <th>Severity</th>\n",
              "    </tr>\n",
              "  </thead>\n",
              "  <tbody>\n",
              "    <tr>\n",
              "      <th>count</th>\n",
              "      <td>959.000000</td>\n",
              "      <td>861.000000</td>\n",
              "      <td>961.000000</td>\n",
              "    </tr>\n",
              "    <tr>\n",
              "      <th>mean</th>\n",
              "      <td>4.348279</td>\n",
              "      <td>55.860627</td>\n",
              "      <td>0.463059</td>\n",
              "    </tr>\n",
              "    <tr>\n",
              "      <th>std</th>\n",
              "      <td>1.783031</td>\n",
              "      <td>16.969647</td>\n",
              "      <td>0.498893</td>\n",
              "    </tr>\n",
              "    <tr>\n",
              "      <th>min</th>\n",
              "      <td>0.000000</td>\n",
              "      <td>5.000000</td>\n",
              "      <td>0.000000</td>\n",
              "    </tr>\n",
              "    <tr>\n",
              "      <th>25%</th>\n",
              "      <td>4.000000</td>\n",
              "      <td>45.000000</td>\n",
              "      <td>0.000000</td>\n",
              "    </tr>\n",
              "    <tr>\n",
              "      <th>50%</th>\n",
              "      <td>4.000000</td>\n",
              "      <td>56.000000</td>\n",
              "      <td>0.000000</td>\n",
              "    </tr>\n",
              "    <tr>\n",
              "      <th>75%</th>\n",
              "      <td>5.000000</td>\n",
              "      <td>66.000000</td>\n",
              "      <td>1.000000</td>\n",
              "    </tr>\n",
              "    <tr>\n",
              "      <th>max</th>\n",
              "      <td>55.000000</td>\n",
              "      <td>130.000000</td>\n",
              "      <td>1.000000</td>\n",
              "    </tr>\n",
              "  </tbody>\n",
              "</table>\n",
              "</div>"
            ],
            "text/plain": [
              "          BI_RADS         Age    Severity\n",
              "count  959.000000  861.000000  961.000000\n",
              "mean     4.348279   55.860627    0.463059\n",
              "std      1.783031   16.969647    0.498893\n",
              "min      0.000000    5.000000    0.000000\n",
              "25%      4.000000   45.000000    0.000000\n",
              "50%      4.000000   56.000000    0.000000\n",
              "75%      5.000000   66.000000    1.000000\n",
              "max     55.000000  130.000000    1.000000"
            ]
          },
          "metadata": {
            "tags": []
          },
          "execution_count": 5
        }
      ]
    },
    {
      "cell_type": "code",
      "metadata": {
        "id": "ED2Zp5sWuexX",
        "outputId": "9841176c-ddf2-4aa9-a145-abc9a58daeba",
        "colab": {
          "base_uri": "https://localhost:8080/",
          "height": 235
        }
      },
      "source": [
        "#missing amount for data\n",
        "missing= df.isnull().sum().sort_values(ascending=False)\n",
        "percentage = (df.isnull().sum()/ df.isnull().count()).sort_values(ascending=False)\n",
        "missing_recommend_df = pd.concat([missing, percentage], axis=1, keys=['Missing_count', 'Missinng_%'])\n",
        "missing_recommend_df.head(6)"
      ],
      "execution_count": 8,
      "outputs": [
        {
          "output_type": "execute_result",
          "data": {
            "text/html": [
              "<div>\n",
              "<style scoped>\n",
              "    .dataframe tbody tr th:only-of-type {\n",
              "        vertical-align: middle;\n",
              "    }\n",
              "\n",
              "    .dataframe tbody tr th {\n",
              "        vertical-align: top;\n",
              "    }\n",
              "\n",
              "    .dataframe thead th {\n",
              "        text-align: right;\n",
              "    }\n",
              "</style>\n",
              "<table border=\"1\" class=\"dataframe\">\n",
              "  <thead>\n",
              "    <tr style=\"text-align: right;\">\n",
              "      <th></th>\n",
              "      <th>Missing_count</th>\n",
              "      <th>Missinng_%</th>\n",
              "    </tr>\n",
              "  </thead>\n",
              "  <tbody>\n",
              "    <tr>\n",
              "      <th>Age</th>\n",
              "      <td>100</td>\n",
              "      <td>0.104058</td>\n",
              "    </tr>\n",
              "    <tr>\n",
              "      <th>Mass_Density</th>\n",
              "      <td>76</td>\n",
              "      <td>0.079084</td>\n",
              "    </tr>\n",
              "    <tr>\n",
              "      <th>Margin</th>\n",
              "      <td>48</td>\n",
              "      <td>0.049948</td>\n",
              "    </tr>\n",
              "    <tr>\n",
              "      <th>Shape</th>\n",
              "      <td>31</td>\n",
              "      <td>0.032258</td>\n",
              "    </tr>\n",
              "    <tr>\n",
              "      <th>BI_RADS</th>\n",
              "      <td>2</td>\n",
              "      <td>0.002081</td>\n",
              "    </tr>\n",
              "    <tr>\n",
              "      <th>Severity</th>\n",
              "      <td>0</td>\n",
              "      <td>0.000000</td>\n",
              "    </tr>\n",
              "  </tbody>\n",
              "</table>\n",
              "</div>"
            ],
            "text/plain": [
              "              Missing_count  Missinng_%\n",
              "Age                     100    0.104058\n",
              "Mass_Density             76    0.079084\n",
              "Margin                   48    0.049948\n",
              "Shape                    31    0.032258\n",
              "BI_RADS                   2    0.002081\n",
              "Severity                  0    0.000000"
            ]
          },
          "metadata": {
            "tags": []
          },
          "execution_count": 8
        }
      ]
    },
    {
      "cell_type": "code",
      "metadata": {
        "id": "mrtkHY5tuzOt",
        "outputId": "7b19f0fe-d672-4c15-cab1-0cf07a346f61",
        "colab": {
          "base_uri": "https://localhost:8080/",
          "height": 608
        }
      },
      "source": [
        "#check corelation \n",
        "import matplotlib.pyplot as plt\n",
        "import seaborn as sns\n",
        "fig=plt.figure(figsize=(10,10))\n",
        "ax = fig.gca()\n",
        "sns.heatmap(df.corr(), annot=True,ax=ax, cmap=plt.cm.YlGnBu)\n",
        "ax.set_title('The correlations between all features')\n",
        "palette =sns.diverging_palette(80, 110, n=146)\n",
        "plt.show()"
      ],
      "execution_count": 12,
      "outputs": [
        {
          "output_type": "display_data",
          "data": {
            "image/png": "[encoded data removed]",
            "text/plain": [
              "<Figure size 720x720 with 2 Axes>"
            ]
          },
          "metadata": {
            "tags": [],
            "needs_background": "light"
          }
        }
      ]
    },
    {
      "cell_type": "code",
      "metadata": {
        "id": "BuGYToM_vV_Z",
        "outputId": "2619afdd-40bf-4ac9-eb9b-eee920777380",
        "colab": {
          "base_uri": "https://localhost:8080/"
        }
      },
      "source": [
        "# correlation with the target\n",
        "corr_matrix = df.corr()\n",
        "corr_matrix[\"Severity\"].sort_values(ascending=False)"
      ],
      "execution_count": 13,
      "outputs": [
        {
          "output_type": "execute_result",
          "data": {
            "text/plain": [
              "Severity    1.000000\n",
              "Age         0.408413\n",
              "BI_RADS     0.231601\n",
              "Name: Severity, dtype: float64"
            ]
          },
          "metadata": {
            "tags": []
          },
          "execution_count": 13
        }
      ]
    },
    {
      "cell_type": "code",
      "metadata": {
        "id": "NwgbLSJEvvr1",
        "outputId": "38a0fb07-0b2f-47b8-c1e0-6969e4c35f37",
        "colab": {
          "base_uri": "https://localhost:8080/"
        }
      },
      "source": [
        "df['Severity'].value_counts(normalize=True)"
      ],
      "execution_count": 14,
      "outputs": [
        {
          "output_type": "execute_result",
          "data": {
            "text/plain": [
              "0    0.536941\n",
              "1    0.463059\n",
              "Name: Severity, dtype: float64"
            ]
          },
          "metadata": {
            "tags": []
          },
          "execution_count": 14
        }
      ]
    },
    {
      "cell_type": "code",
      "metadata": {
        "id": "jVK_fMCdxz7q"
      },
      "source": [
        "#lets plot feature wise"
      ],
      "execution_count": null,
      "outputs": []
    },
    {
      "cell_type": "code",
      "metadata": {
        "id": "70zRumBTwgFc",
        "outputId": "843785ff-a0b4-430d-e66c-63c5b7cd34c4",
        "colab": {
          "base_uri": "https://localhost:8080/",
          "height": 296
        }
      },
      "source": [
        "sns.countplot(x='Shape', hue='Severity', data=df)"
      ],
      "execution_count": 19,
      "outputs": [
        {
          "output_type": "execute_result",
          "data": {
            "text/plain": [
              "<matplotlib.axes._subplots.AxesSubplot at 0x7fc5a0b8d7f0>"
            ]
          },
          "metadata": {
            "tags": []
          },
          "execution_count": 19
        },
        {
          "output_type": "display_data",
          "data": {
            "image/png": "[encoded data removed]",
            "text/plain": [
              "<Figure size 432x288 with 1 Axes>"
            ]
          },
          "metadata": {
            "tags": [],
            "needs_background": "light"
          }
        }
      ]
    },
    {
      "cell_type": "code",
      "metadata": {
        "id": "QO2Mnpk3xoGw"
      },
      "source": [
        "#from above it looks the irregular shape has more severity "
      ],
      "execution_count": 18,
      "outputs": []
    },
    {
      "cell_type": "code",
      "metadata": {
        "id": "ujBOqHzGyE-J",
        "outputId": "5100893a-9774-4241-9e4f-28bd528edd18",
        "colab": {
          "base_uri": "https://localhost:8080/",
          "height": 280
        }
      },
      "source": [
        "sns.countplot(x='Mass_Density', hue='Severity', data=df);"
      ],
      "execution_count": 20,
      "outputs": [
        {
          "output_type": "display_data",
          "data": {
            "image/png": "[encoded data removed]",
            "text/plain": [
              "<Figure size 432x288 with 1 Axes>"
            ]
          },
          "metadata": {
            "tags": [],
            "needs_background": "light"
          }
        }
      ]
    },
    {
      "cell_type": "code",
      "metadata": {
        "id": "FAXFpXGPyPK3"
      },
      "source": [
        "#Mass_Density seems quite normally distributed for both cases ,except for iso type ."
      ],
      "execution_count": 21,
      "outputs": []
    },
    {
      "cell_type": "code",
      "metadata": {
        "id": "ZraFAJYyyrL5",
        "outputId": "d5eb43d1-d82b-464f-8eb2-4da55df82df7",
        "colab": {
          "base_uri": "https://localhost:8080/",
          "height": 279
        }
      },
      "source": [
        "sns.countplot(x='Margin', hue='Severity', data=df);"
      ],
      "execution_count": 23,
      "outputs": [
        {
          "output_type": "display_data",
          "data": {
            "image/png": "[encoded data removed]",
            "text/plain": [
              "<Figure size 432x288 with 1 Axes>"
            ]
          },
          "metadata": {
            "tags": [],
            "needs_background": "light"
          }
        }
      ]
    },
    {
      "cell_type": "code",
      "metadata": {
        "id": "lKcouepxy2Fs"
      },
      "source": [
        "#High severity cases for spiculated, ill defined Margin"
      ],
      "execution_count": 24,
      "outputs": []
    },
    {
      "cell_type": "code",
      "metadata": {
        "id": "1_8trELdz_ao",
        "outputId": "46e1bf37-dbc0-4383-c844-1ef9b8277d99",
        "colab": {
          "base_uri": "https://localhost:8080/",
          "height": 279
        }
      },
      "source": [
        "sns.countplot(x='Age', hue='Severity', data=df);"
      ],
      "execution_count": 29,
      "outputs": [
        {
          "output_type": "display_data",
          "data": {
            "image/png": "[encoded data removed]",
            "text/plain": [
              "<Figure size 432x288 with 1 Axes>"
            ]
          },
          "metadata": {
            "tags": [],
            "needs_background": "light"
          }
        }
      ]
    },
    {
      "cell_type": "markdown",
      "metadata": {
        "id": "WSk1n99x0IT8"
      },
      "source": [
        "seems more severity toward high age groups"
      ]
    },
    {
      "cell_type": "code",
      "metadata": {
        "id": "LLPKqUol0RUb",
        "outputId": "91d81394-073e-4e8e-c225-7667bff950ad",
        "colab": {
          "base_uri": "https://localhost:8080/",
          "height": 280
        }
      },
      "source": [
        "sns.countplot(x='BI_RADS', hue='Severity', data=df);"
      ],
      "execution_count": 32,
      "outputs": [
        {
          "output_type": "display_data",
          "data": {
            "image/png": "[encoded data removed]",
            "text/plain": [
              "<Figure size 432x288 with 1 Axes>"
            ]
          },
          "metadata": {
            "tags": [],
            "needs_background": "light"
          }
        }
      ]
    },
    {
      "cell_type": "markdown",
      "metadata": {
        "id": "Y3KPm6VS0cAT"
      },
      "source": [
        "BI_RADS type 5  are more severe types"
      ]
    },
    {
      "cell_type": "code",
      "metadata": {
        "id": "d7XeD_zjzFcf",
        "outputId": "073726d4-d380-4073-aba7-49b6a4d7a6ad",
        "colab": {
          "base_uri": "https://localhost:8080/",
          "height": 350
        }
      },
      "source": [
        "##Lets check data distributions\n",
        "sns.distplot(df['Age'])"
      ],
      "execution_count": 33,
      "outputs": [
        {
          "output_type": "stream",
          "text": [
            "/usr/local/lib/python3.6/dist-packages/seaborn/distributions.py:2551: FutureWarning: `distplot` is a deprecated function and will be removed in a future version. Please adapt your code to use either `displot` (a figure-level function with similar flexibility) or `histplot` (an axes-level function for histograms).\n",
            "  warnings.warn(msg, FutureWarning)\n"
          ],
          "name": "stderr"
        },
        {
          "output_type": "execute_result",
          "data": {
            "text/plain": [
              "<matplotlib.axes._subplots.AxesSubplot at 0x7fc598d31a20>"
            ]
          },
          "metadata": {
            "tags": []
          },
          "execution_count": 33
        },
        {
          "output_type": "display_data",
          "data": {
            "image/png": "[encoded data removed]",
            "text/plain": [
              "<Figure size 432x288 with 1 Axes>"
            ]
          },
          "metadata": {
            "tags": [],
            "needs_background": "light"
          }
        }
      ]
    },
    {
      "cell_type": "code",
      "metadata": {
        "id": "hRTd65SKzhgY",
        "outputId": "30ef4706-d9df-47fd-808b-27b426f0bfcb",
        "colab": {
          "base_uri": "https://localhost:8080/",
          "height": 386
        }
      },
      "source": [
        "sns.displot(df, x=\"BI_RADS\")"
      ],
      "execution_count": 35,
      "outputs": [
        {
          "output_type": "execute_result",
          "data": {
            "text/plain": [
              "<seaborn.axisgrid.FacetGrid at 0x7fc598d01358>"
            ]
          },
          "metadata": {
            "tags": []
          },
          "execution_count": 35
        },
        {
          "output_type": "display_data",
          "data": {
            "image/png": "[encoded data removed]",
            "text/plain": [
              "<Figure size 360x360 with 1 Axes>"
            ]
          },
          "metadata": {
            "tags": [],
            "needs_background": "light"
          }
        }
      ]
    },
    {
      "cell_type": "code",
      "metadata": {
        "id": "Kh5poGTD0uKi"
      },
      "source": [
        "#lets do impute missing data and go for classification"
      ],
      "execution_count": 36,
      "outputs": []
    },
    {
      "cell_type": "code",
      "metadata": {
        "id": "kGiBd3jI1_w7"
      },
      "source": [
        "# Shape,\tMargin,\tMass_Density are categorical type\n",
        "#BI_RADS and Age  numerics"
      ],
      "execution_count": null,
      "outputs": []
    },
    {
      "cell_type": "code",
      "metadata": {
        "id": "9nxegpKS6a3S"
      },
      "source": [
        "df['BI_RADS'] = df['BI_RADS'].fillna(df['BI_RADS'].mode()[0])"
      ],
      "execution_count": 56,
      "outputs": []
    },
    {
      "cell_type": "code",
      "metadata": {
        "id": "Bqbber3Y7O73",
        "outputId": "9e57a115-149a-4bb8-e4ea-4389045c8202",
        "colab": {
          "base_uri": "https://localhost:8080/"
        }
      },
      "source": [
        "df['BI_RADS'].isnull().sum()"
      ],
      "execution_count": 57,
      "outputs": [
        {
          "output_type": "execute_result",
          "data": {
            "text/plain": [
              "0"
            ]
          },
          "metadata": {
            "tags": []
          },
          "execution_count": 57
        }
      ]
    },
    {
      "cell_type": "code",
      "metadata": {
        "id": "JxsU245X7Xui",
        "outputId": "ec4499a4-c2a0-44e6-e0c1-c43a2c36d218",
        "colab": {
          "base_uri": "https://localhost:8080/",
          "height": 265
        }
      },
      "source": [
        "#FOR AGE ,  there seems some outliers , lets fix that and impute\n",
        "df['Age'].plot(kind='box')\n",
        "plt.show()\n"
      ],
      "execution_count": 42,
      "outputs": [
        {
          "output_type": "display_data",
          "data": {
            "image/png": "[encoded data removed]",
            "text/plain": [
              "<Figure size 432x288 with 1 Axes>"
            ]
          },
          "metadata": {
            "tags": [],
            "needs_background": "light"
          }
        }
      ]
    },
    {
      "cell_type": "markdown",
      "metadata": {
        "id": "a0Xp9itB8gB1"
      },
      "source": [
        "there are some circles below 20 and above 100 "
      ]
    },
    {
      "cell_type": "code",
      "metadata": {
        "id": "PCz3RH1H8oFV",
        "outputId": "4eb0627f-86c0-405b-9118-c043f91e6b45",
        "colab": {
          "base_uri": "https://localhost:8080/",
          "height": 265
        }
      },
      "source": [
        "df['Age'].plot(kind='hist')\n",
        "plt.show()"
      ],
      "execution_count": 43,
      "outputs": [
        {
          "output_type": "display_data",
          "data": {
            "image/png": "[encoded data removed]",
            "text/plain": [
              "<Figure size 432x288 with 1 Axes>"
            ]
          },
          "metadata": {
            "tags": [],
            "needs_background": "light"
          }
        }
      ]
    },
    {
      "cell_type": "code",
      "metadata": {
        "id": "CN2VIadM80fk",
        "outputId": "68a87291-43fe-4755-debf-6821648c6adf",
        "colab": {
          "base_uri": "https://localhost:8080/"
        }
      },
      "source": [
        "Q1 = df[\"Age\"].quantile(0.25)\n",
        "Q3 = df[\"Age\"].quantile(0.75)\n",
        "IQR = Q3 - Q1\n",
        "Lower_Fence = Q1 - (1.5 * IQR)\n",
        "Upper_Fence = Q3 + (1.5 * IQR)\n",
        "print(Lower_Fence)\n",
        "print(Upper_Fence)"
      ],
      "execution_count": 49,
      "outputs": [
        {
          "output_type": "stream",
          "text": [
            "13.5\n",
            "97.5\n"
          ],
          "name": "stdout"
        }
      ]
    },
    {
      "cell_type": "code",
      "metadata": {
        "id": "UYq_PoCV-GlT"
      },
      "source": [
        "df.loc[df['Age'] > Upper_Fence, 'Age'] = np.nan"
      ],
      "execution_count": 59,
      "outputs": []
    },
    {
      "cell_type": "code",
      "metadata": {
        "id": "5oUF1bOY_-8J"
      },
      "source": [
        "df.loc[df['Age'] < Lower_Fence, 'Age'] = np.nan"
      ],
      "execution_count": 60,
      "outputs": []
    },
    {
      "cell_type": "code",
      "metadata": {
        "id": "nVHK2XlCADDT",
        "outputId": "8bf6e9cb-49f4-4e74-df5e-16a5667172f5",
        "colab": {
          "base_uri": "https://localhost:8080/"
        }
      },
      "source": [
        "df['Age'].isnull().sum()"
      ],
      "execution_count": 61,
      "outputs": [
        {
          "output_type": "execute_result",
          "data": {
            "text/plain": [
              "118"
            ]
          },
          "metadata": {
            "tags": []
          },
          "execution_count": 61
        }
      ]
    },
    {
      "cell_type": "code",
      "metadata": {
        "id": "tBorEJa6Aj67",
        "outputId": "b7977eaf-351b-4b1e-ec79-4197851c3785",
        "colab": {
          "base_uri": "https://localhost:8080/",
          "height": 265
        }
      },
      "source": [
        "#After removing outliers\n",
        "df['Age'].plot(kind='hist')\n",
        "plt.show()"
      ],
      "execution_count": 62,
      "outputs": [
        {
          "output_type": "display_data",
          "data": {
            "image/png": "[encoded data removed]",
            "text/plain": [
              "<Figure size 432x288 with 1 Axes>"
            ]
          },
          "metadata": {
            "tags": [],
            "needs_background": "light"
          }
        }
      ]
    },
    {
      "cell_type": "code",
      "metadata": {
        "id": "g2rlXUI0BQ15"
      },
      "source": [
        "dfbk=df.copy()"
      ],
      "execution_count": 63,
      "outputs": []
    },
    {
      "cell_type": "code",
      "metadata": {
        "id": "vr_Dc-MqApgx"
      },
      "source": [
        "#impute age using KNNimputer\n",
        "from sklearn.impute import KNNImputer\n",
        "age_impute=df[['BI_RADS','Age','Severity']]\n",
        "imputer=KNNImputer(n_neighbors=5)\n",
        "newage=imputer.fit_transform(age_impute)\n",
        "newage=pd.DataFrame(newage)\n",
        "new_age=newage.loc[:,1]\n",
        "\n"
      ],
      "execution_count": 65,
      "outputs": []
    },
    {
      "cell_type": "code",
      "metadata": {
        "id": "6WJO8SvwB9Al"
      },
      "source": [
        "df=df.drop('Age',axis=1)\n",
        "df['Age']=new_age\n"
      ],
      "execution_count": 74,
      "outputs": []
    },
    {
      "cell_type": "code",
      "metadata": {
        "id": "qkJJSOGTDHRT",
        "outputId": "c428adb0-d4b6-4151-e678-22c0b4d6a05c",
        "colab": {
          "base_uri": "https://localhost:8080/",
          "height": 204
        }
      },
      "source": [
        "df.head(5)"
      ],
      "execution_count": 76,
      "outputs": [
        {
          "output_type": "execute_result",
          "data": {
            "text/html": [
              "<div>\n",
              "<style scoped>\n",
              "    .dataframe tbody tr th:only-of-type {\n",
              "        vertical-align: middle;\n",
              "    }\n",
              "\n",
              "    .dataframe tbody tr th {\n",
              "        vertical-align: top;\n",
              "    }\n",
              "\n",
              "    .dataframe thead th {\n",
              "        text-align: right;\n",
              "    }\n",
              "</style>\n",
              "<table border=\"1\" class=\"dataframe\">\n",
              "  <thead>\n",
              "    <tr style=\"text-align: right;\">\n",
              "      <th></th>\n",
              "      <th>BI_RADS</th>\n",
              "      <th>Shape</th>\n",
              "      <th>Margin</th>\n",
              "      <th>Mass_Density</th>\n",
              "      <th>Severity</th>\n",
              "      <th>Age</th>\n",
              "    </tr>\n",
              "  </thead>\n",
              "  <tbody>\n",
              "    <tr>\n",
              "      <th>0</th>\n",
              "      <td>5.0</td>\n",
              "      <td>lobular</td>\n",
              "      <td>spiculated</td>\n",
              "      <td>low</td>\n",
              "      <td>1</td>\n",
              "      <td>67.0</td>\n",
              "    </tr>\n",
              "    <tr>\n",
              "      <th>1</th>\n",
              "      <td>4.0</td>\n",
              "      <td>round</td>\n",
              "      <td>circumscribed</td>\n",
              "      <td>NaN</td>\n",
              "      <td>1</td>\n",
              "      <td>43.0</td>\n",
              "    </tr>\n",
              "    <tr>\n",
              "      <th>2</th>\n",
              "      <td>5.0</td>\n",
              "      <td>irregular</td>\n",
              "      <td>spiculated</td>\n",
              "      <td>low</td>\n",
              "      <td>1</td>\n",
              "      <td>58.0</td>\n",
              "    </tr>\n",
              "    <tr>\n",
              "      <th>3</th>\n",
              "      <td>4.0</td>\n",
              "      <td>round</td>\n",
              "      <td>circumscribed</td>\n",
              "      <td>low</td>\n",
              "      <td>0</td>\n",
              "      <td>28.0</td>\n",
              "    </tr>\n",
              "    <tr>\n",
              "      <th>4</th>\n",
              "      <td>5.0</td>\n",
              "      <td>round</td>\n",
              "      <td>spiculated</td>\n",
              "      <td>NaN</td>\n",
              "      <td>1</td>\n",
              "      <td>74.0</td>\n",
              "    </tr>\n",
              "  </tbody>\n",
              "</table>\n",
              "</div>"
            ],
            "text/plain": [
              "   BI_RADS      Shape         Margin Mass_Density  Severity   Age\n",
              "0      5.0    lobular     spiculated          low         1  67.0\n",
              "1      4.0      round  circumscribed          NaN         1  43.0\n",
              "2      5.0  irregular     spiculated          low         1  58.0\n",
              "3      4.0      round  circumscribed          low         0  28.0\n",
              "4      5.0      round     spiculated          NaN         1  74.0"
            ]
          },
          "metadata": {
            "tags": []
          },
          "execution_count": 76
        }
      ]
    },
    {
      "cell_type": "markdown",
      "metadata": {
        "id": "22cYKoguJXLc"
      },
      "source": [
        "Categorical feature imputation and encoding "
      ]
    },
    {
      "cell_type": "code",
      "metadata": {
        "id": "lftqF14O4-PR"
      },
      "source": [
        "import numpy as np\n",
        "from fancyimpute import KNN\n",
        "from sklearn.preprocessing import  OrdinalEncoder"
      ],
      "execution_count": 78,
      "outputs": []
    },
    {
      "cell_type": "code",
      "metadata": {
        "id": "ZoJVx-Bs5q94"
      },
      "source": [
        " encoder=OrdinalEncoder()\n",
        " imputer=KNN()\n",
        " cat_cols=['Shape','Margin','Mass_Density']\n",
        " def encode(data):\n",
        "    #retains only non-null values\n",
        "    nonulls = np.array(data.dropna())\n",
        "    #reshapes the data for encoding\n",
        "    impute_reshape = nonulls.reshape(-1,1)\n",
        "    #encode date\n",
        "    impute_ordinal = encoder.fit_transform(impute_reshape)\n",
        "    #Assign back encoded values to non-null values\n",
        "    data.loc[data.notnull()] = np.squeeze(impute_ordinal)\n",
        "    return data\n",
        "\n"
      ],
      "execution_count": 79,
      "outputs": []
    },
    {
      "cell_type": "code",
      "metadata": {
        "id": "QNh7D4NQEiaO",
        "outputId": "cac5ba3f-b545-41eb-85b6-6cfe8a9142a2",
        "colab": {
          "base_uri": "https://localhost:8080/"
        }
      },
      "source": [
        "for columns in cat_cols:\n",
        "    df[columns]=encode(df[columns])"
      ],
      "execution_count": 82,
      "outputs": [
        {
          "output_type": "stream",
          "text": [
            "/usr/local/lib/python3.6/dist-packages/pandas/core/indexing.py:670: SettingWithCopyWarning: \n",
            "A value is trying to be set on a copy of a slice from a DataFrame\n",
            "\n",
            "See the caveats in the documentation: https://pandas.pydata.org/pandas-docs/stable/user_guide/indexing.html#returning-a-view-versus-a-copy\n",
            "  iloc._setitem_with_indexer(indexer, value)\n",
            "/usr/local/lib/python3.6/dist-packages/pandas/core/indexing.py:670: SettingWithCopyWarning: \n",
            "A value is trying to be set on a copy of a slice from a DataFrame\n",
            "\n",
            "See the caveats in the documentation: https://pandas.pydata.org/pandas-docs/stable/user_guide/indexing.html#returning-a-view-versus-a-copy\n",
            "  iloc._setitem_with_indexer(indexer, value)\n",
            "/usr/local/lib/python3.6/dist-packages/pandas/core/indexing.py:670: SettingWithCopyWarning: \n",
            "A value is trying to be set on a copy of a slice from a DataFrame\n",
            "\n",
            "See the caveats in the documentation: https://pandas.pydata.org/pandas-docs/stable/user_guide/indexing.html#returning-a-view-versus-a-copy\n",
            "  iloc._setitem_with_indexer(indexer, value)\n"
          ],
          "name": "stderr"
        }
      ]
    },
    {
      "cell_type": "code",
      "metadata": {
        "id": "yVqOQ-ZUEo8_",
        "outputId": "8a44d5f0-8847-4cbd-8db2-661a0ef7e867",
        "colab": {
          "base_uri": "https://localhost:8080/"
        }
      },
      "source": [
        "encode_data = pd.DataFrame(np.round(imputer.fit_transform(df)),columns = df.columns)"
      ],
      "execution_count": 84,
      "outputs": [
        {
          "output_type": "stream",
          "text": [
            "Imputing row 1/961 with 0 missing, elapsed time: 0.158\n",
            "Imputing row 101/961 with 2 missing, elapsed time: 0.160\n",
            "Imputing row 201/961 with 0 missing, elapsed time: 0.161\n",
            "Imputing row 301/961 with 0 missing, elapsed time: 0.162\n",
            "Imputing row 401/961 with 0 missing, elapsed time: 0.163\n",
            "Imputing row 501/961 with 0 missing, elapsed time: 0.164\n",
            "Imputing row 601/961 with 0 missing, elapsed time: 0.165\n",
            "Imputing row 701/961 with 0 missing, elapsed time: 0.166\n",
            "Imputing row 801/961 with 0 missing, elapsed time: 0.167\n",
            "Imputing row 901/961 with 0 missing, elapsed time: 0.167\n"
          ],
          "name": "stdout"
        }
      ]
    },
    {
      "cell_type": "code",
      "metadata": {
        "id": "hhXHr0D9FNhZ",
        "outputId": "af219fa3-146d-47a7-df7d-33cb3371debb",
        "colab": {
          "base_uri": "https://localhost:8080/"
        }
      },
      "source": [
        "encode_data.isnull().sum()\n"
      ],
      "execution_count": 88,
      "outputs": [
        {
          "output_type": "execute_result",
          "data": {
            "text/plain": [
              "BI_RADS         0\n",
              "Shape           0\n",
              "Margin          0\n",
              "Mass_Density    0\n",
              "Severity        0\n",
              "Age             0\n",
              "dtype: int64"
            ]
          },
          "metadata": {
            "tags": []
          },
          "execution_count": 88
        }
      ]
    },
    {
      "cell_type": "code",
      "metadata": {
        "id": "HSCvfljpGj8I",
        "outputId": "a6eadb22-833f-4012-c801-9d8b403d2d0c",
        "colab": {
          "base_uri": "https://localhost:8080/",
          "height": 204
        }
      },
      "source": [
        "encode_data.head(5)"
      ],
      "execution_count": 89,
      "outputs": [
        {
          "output_type": "execute_result",
          "data": {
            "text/html": [
              "<div>\n",
              "<style scoped>\n",
              "    .dataframe tbody tr th:only-of-type {\n",
              "        vertical-align: middle;\n",
              "    }\n",
              "\n",
              "    .dataframe tbody tr th {\n",
              "        vertical-align: top;\n",
              "    }\n",
              "\n",
              "    .dataframe thead th {\n",
              "        text-align: right;\n",
              "    }\n",
              "</style>\n",
              "<table border=\"1\" class=\"dataframe\">\n",
              "  <thead>\n",
              "    <tr style=\"text-align: right;\">\n",
              "      <th></th>\n",
              "      <th>BI_RADS</th>\n",
              "      <th>Shape</th>\n",
              "      <th>Margin</th>\n",
              "      <th>Mass_Density</th>\n",
              "      <th>Severity</th>\n",
              "      <th>Age</th>\n",
              "    </tr>\n",
              "  </thead>\n",
              "  <tbody>\n",
              "    <tr>\n",
              "      <th>0</th>\n",
              "      <td>5.0</td>\n",
              "      <td>1.0</td>\n",
              "      <td>4.0</td>\n",
              "      <td>3.0</td>\n",
              "      <td>1.0</td>\n",
              "      <td>67.0</td>\n",
              "    </tr>\n",
              "    <tr>\n",
              "      <th>1</th>\n",
              "      <td>4.0</td>\n",
              "      <td>3.0</td>\n",
              "      <td>0.0</td>\n",
              "      <td>3.0</td>\n",
              "      <td>1.0</td>\n",
              "      <td>43.0</td>\n",
              "    </tr>\n",
              "    <tr>\n",
              "      <th>2</th>\n",
              "      <td>5.0</td>\n",
              "      <td>0.0</td>\n",
              "      <td>4.0</td>\n",
              "      <td>3.0</td>\n",
              "      <td>1.0</td>\n",
              "      <td>58.0</td>\n",
              "    </tr>\n",
              "    <tr>\n",
              "      <th>3</th>\n",
              "      <td>4.0</td>\n",
              "      <td>3.0</td>\n",
              "      <td>0.0</td>\n",
              "      <td>3.0</td>\n",
              "      <td>0.0</td>\n",
              "      <td>28.0</td>\n",
              "    </tr>\n",
              "    <tr>\n",
              "      <th>4</th>\n",
              "      <td>5.0</td>\n",
              "      <td>3.0</td>\n",
              "      <td>4.0</td>\n",
              "      <td>3.0</td>\n",
              "      <td>1.0</td>\n",
              "      <td>74.0</td>\n",
              "    </tr>\n",
              "  </tbody>\n",
              "</table>\n",
              "</div>"
            ],
            "text/plain": [
              "   BI_RADS  Shape  Margin  Mass_Density  Severity   Age\n",
              "0      5.0    1.0     4.0           3.0       1.0  67.0\n",
              "1      4.0    3.0     0.0           3.0       1.0  43.0\n",
              "2      5.0    0.0     4.0           3.0       1.0  58.0\n",
              "3      4.0    3.0     0.0           3.0       0.0  28.0\n",
              "4      5.0    3.0     4.0           3.0       1.0  74.0"
            ]
          },
          "metadata": {
            "tags": []
          },
          "execution_count": 89
        }
      ]
    },
    {
      "cell_type": "code",
      "metadata": {
        "id": "Joit8YpYGykV"
      },
      "source": [
        "data=encode_data[['BI_RADS','Age','Shape','Margin','Mass_Density','Severity']]"
      ],
      "execution_count": 90,
      "outputs": []
    },
    {
      "cell_type": "code",
      "metadata": {
        "id": "dWrlrEUoILZd"
      },
      "source": [
        "x = data.iloc[:, :-1]\n",
        "y = data.iloc[:, -1]"
      ],
      "execution_count": 92,
      "outputs": []
    },
    {
      "cell_type": "markdown",
      "metadata": {
        "id": "-H43QICQJR9O"
      },
      "source": [
        "train test data split"
      ]
    },
    {
      "cell_type": "code",
      "metadata": {
        "id": "WES5vvQEIM2Z"
      },
      "source": [
        "from sklearn.model_selection import train_test_split\n",
        "x_train, x_test, y_train, y_test = train_test_split(x, y, test_size = 0.2, random_state = 0)"
      ],
      "execution_count": 93,
      "outputs": []
    },
    {
      "cell_type": "markdown",
      "metadata": {
        "id": "QEcDDzA1JNT8"
      },
      "source": [
        "Apply simple logistic model "
      ]
    },
    {
      "cell_type": "code",
      "metadata": {
        "id": "Y7nJlJHQIV6o",
        "outputId": "ce31b8c0-1fe6-4b73-ab33-14e366f6d71e",
        "colab": {
          "base_uri": "https://localhost:8080/",
          "height": 452
        }
      },
      "source": [
        "from sklearn.linear_model import LogisticRegression\n",
        "from sklearn.metrics import confusion_matrix\n",
        "from sklearn.metrics import classification_report\n",
        "model = LogisticRegression()\n",
        "model.fit(x_train, y_train)\n",
        "\n",
        "y_pred = model.predict(x_test)\n",
        "\n",
        "print(\"Testing Accuracy :\", model.score(x_test, y_test))\n",
        "print(\"Training Accuracy :\", model.score(x_train, y_train))\n",
        "\n",
        "# confusion matrix\n",
        "cm = confusion_matrix(y_pred, y_test)\n",
        "sns.heatmap(cm, annot = True)\n",
        "\n",
        "# classification report\n",
        "cr = classification_report(y_pred, y_test)\n",
        "print(cr)"
      ],
      "execution_count": 94,
      "outputs": [
        {
          "output_type": "stream",
          "text": [
            "Testing Accuracy : 0.8290155440414507\n",
            "Training Accuracy : 0.83984375\n",
            "              precision    recall  f1-score   support\n",
            "\n",
            "         0.0       0.87      0.81      0.84       107\n",
            "         1.0       0.78      0.85      0.82        86\n",
            "\n",
            "    accuracy                           0.83       193\n",
            "   macro avg       0.83      0.83      0.83       193\n",
            "weighted avg       0.83      0.83      0.83       193\n",
            "\n"
          ],
          "name": "stdout"
        },
        {
          "output_type": "display_data",
          "data": {
            "image/png": "[encoded data removed]",
            "text/plain": [
              "<Figure size 432x288 with 2 Axes>"
            ]
          },
          "metadata": {
            "tags": [],
            "needs_background": "light"
          }
        }
      ]
    },
    {
      "cell_type": "code",
      "metadata": {
        "id": "EbelexOrIdeB"
      },
      "source": [
        "#For Simple Logistic model the accuracy on test data is 82.9 % ,which looks good and also F1 score and recall value is quite fine."
      ],
      "execution_count": null,
      "outputs": []
    }
  ]
}
